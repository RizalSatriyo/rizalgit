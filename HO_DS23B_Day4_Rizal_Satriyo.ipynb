{
  "cells": [
    {
      "cell_type": "markdown",
      "metadata": {
        "id": "DrhTHXPWCIC-"
      },
      "source": [
        "1. Membuat function menghitung factorial dari sebuah nilai input\n",
        "\n",
        "Faktorial adalah operasi matematika yang diterapkan pada bilangan bulat non-negatif. Faktorial dari suatu bilangan dinyatakan dengan simbol \"n!\" dan didefinisikan sebagai hasil perkalian semua bilangan bulat positif dari 1 hingga n. <br>\n",
        "\n",
        "Sebagai contoh, 5 faktorial (ditulis sebagai 5!) adalah:\n",
        "5! = 5 × 4 × 3 × 2 × 1 = 120\n",
        "\n",
        "```\n",
        "test case 1 :\n",
        "factorial(3) = 6\n",
        "\n",
        "test case 2 :\n",
        "factorial(5) = 120\n",
        "\n",
        "test case 3 :\n",
        "factorial(0) = 1\n",
        "```\n",
        "\n",
        "**Note : jika mengalami kesulitan gunakan google untuk mencari bantuan**\n",
        "\n",
        "tip !  You can use while consep to solve this problem"
      ]
    },
    {
      "cell_type": "code",
      "execution_count": 2,
      "metadata": {
        "id": "Eer51lXyCIDI"
      },
      "outputs": [],
      "source": [
        "def factorial(n):\n",
        "    if n < 0:\n",
        "        return \"Faktorial hanya didefinisikan untuk bilangan bulat non-negatif.\"\n",
        "    elif n == 0:\n",
        "        return 1\n",
        "    else:\n",
        "        result = 1\n",
        "        while n > 0:\n",
        "            result *= n\n",
        "            n -= 1\n",
        "        return result"
      ]
    },
    {
      "cell_type": "code",
      "source": [
        "print(factorial(5))\n",
        "print(factorial(3))\n",
        "print(factorial(0))"
      ],
      "metadata": {
        "colab": {
          "base_uri": "https://localhost:8080/"
        },
        "id": "ED68nD5kF9w1",
        "outputId": "0882fbd1-1325-4197-a8ee-f70fe427a78a"
      },
      "execution_count": 3,
      "outputs": [
        {
          "output_type": "stream",
          "name": "stdout",
          "text": [
            "120\n",
            "6\n",
            "1\n"
          ]
        }
      ]
    },
    {
      "cell_type": "markdown",
      "metadata": {
        "id": "UaOlhROYCIDM"
      },
      "source": [
        "2. Buatlah sebuah program yang memeriksa suatu angka bilangan prima atau bukan\n",
        "\n",
        "Bilangan prima adalah bilangan asli yang lebih besar dari angka 1, yang faktor pembaginya adalah 1 dan bilangan itu sendiri. <br>\n",
        "\n",
        "```\n",
        "test case 1 :\n",
        "check_prime(5)\n",
        "---> out put : 5 is prime\n",
        "\n",
        "test case 2:\n",
        "check_prime(6)\n",
        "---> out put : 6 is not prime\n",
        "\n",
        "test case 3:\n",
        "check_prime(9)\n",
        "---> out put : 9 is not prime\n",
        "\n",
        "test case 4: jika angka dibawah 1\n",
        "check_prime(...) :\n",
        "---> out put : Please input positive integer and more than 1 !\n",
        "```\n",
        "tip ! you can you consep **if-elif-else and for loops** to solve this"
      ]
    },
    {
      "cell_type": "code",
      "execution_count": 5,
      "metadata": {
        "colab": {
          "base_uri": "https://localhost:8080/"
        },
        "id": "R6o61urqCIDN",
        "outputId": "3b8ca22d-e48a-4178-8420-4d8aafe94628"
      },
      "outputs": [
        {
          "output_type": "stream",
          "name": "stdout",
          "text": [
            "5 is prime\n",
            "6 is not prime\n",
            "9 is not prime\n",
            "Please input positive integer and more than 1!\n"
          ]
        }
      ],
      "source": [
        "def check_prime(number):\n",
        "    if number <= 1:\n",
        "        return \"Please input positive integer and more than 1!\"\n",
        "    elif number == 2:\n",
        "        return f\"{number} is prime\"\n",
        "    else:\n",
        "        for x in range(2, int(number ** 0.5) + 1):\n",
        "            if number % x == 0:\n",
        "                return f\"{number} is not prime\"\n",
        "        return f\"{number} is prime\"\n",
        "\n",
        "# Test case 1\n",
        "print(check_prime(5))  # Output: 5 is prime\n",
        "\n",
        "# Test case 2\n",
        "print(check_prime(6))  # Output: 6 is not prime\n",
        "\n",
        "# Test case 3\n",
        "print(check_prime(9))  # Output: 9 is not prime\n",
        "\n",
        "# Test case 4 (angka kurang dari atau sama dengan 1)\n",
        "print(check_prime(1))  # Output: Please input positive integer and more than 1!"
      ]
    },
    {
      "cell_type": "markdown",
      "metadata": {
        "id": "g7fI8SlPCIDN"
      },
      "source": [
        "3. Remove Duplicate Employee IDS\n",
        "   \n",
        "Kamu baru saja dipekerjakan sebagai pengembang perangkat lunak di Perusahaan Puppy, sebuah perusahaan startup yang berfokus pada membuat dunia menjadi tempat yang lebih baik dengan menggunakan anjing-anjing kecil. Juga, perusahaan itu sendiri dijalankan oleh anjing-anjing kecil.\n",
        "\n",
        "Sayangnya, sudah ada beberapa masalah di perusahaan startup ini!\n",
        "\n",
        "Karena perusahaan telah melakukan perekrutan besar-besaran, mereka telah mencatat ID karyawan baru, yang dapat kita representasikan sebagai sebuah daftar Python, misalnya:\n",
        "\n",
        "``ids = [1,2,3,4,5]``\n",
        "\n",
        "Namun, ada masalah di sini, ketika memasukkan ID karyawan baru, seekor anjing kecil secara tidak sengaja duduk di atas keyboard dan terkadang memasukkan entri yang duplikat! Misalnya:\n",
        "\n",
        "``ids = [1,1,1,2,2,2,3,3,3,4,4,5]``\n",
        "\n",
        "Perusahaan membutuhkanmu untuk menghapus ID karyawan yang duplikat dari daftar ini (daftar Python).\n",
        "\n",
        "\n",
        "Masukan yang Diharapkan:\n",
        "\n",
        "Daftar ID karyawan akan berupa sebuah List Python dan masukan akan selalu terurut dalam urutan meningkat.\n",
        "\n",
        "Keluaran yang Diharapkan:\n",
        "\n",
        "Kamu harus mengembalikan sebuah tuple dengan dua item: N (jumlah elemen unik) dan daftar yang diperbarui dengan elemen-elemen unik.\n",
        "\n",
        "Contoh Input dan output:\n",
        "\n",
        "```\n",
        "employee_ids = [1,1,1,2,2,2,3,3,3,4,4,5]\n",
        "output = (5, [1,2,3,4,5])\n",
        "```\n",
        "\n",
        "tip ! you can use ``set`` consep to solve this"
      ]
    },
    {
      "cell_type": "code",
      "execution_count": 6,
      "metadata": {
        "colab": {
          "base_uri": "https://localhost:8080/"
        },
        "id": "1mzcOJvbCIDO",
        "outputId": "dbe87c7d-2a97-4caf-ef95-768027c43143"
      },
      "outputs": [
        {
          "output_type": "stream",
          "name": "stdout",
          "text": [
            "(5, [1, 2, 3, 4, 5])\n"
          ]
        }
      ],
      "source": [
        "def remove_duplicate_employee_ids(employee_ids):\n",
        "    unique_ids = list(set(employee_ids))\n",
        "    return (len(unique_ids), unique_ids)\n",
        "\n",
        "# Contoh penggunaan\n",
        "employee_ids = [1, 1, 1, 2, 2, 2, 3, 3, 3, 4, 4, 5]\n",
        "output = remove_duplicate_employee_ids(employee_ids)\n",
        "print(output)"
      ]
    },
    {
      "cell_type": "markdown",
      "metadata": {
        "id": "YJ0cceuuCIDP"
      },
      "source": [
        "4. Membuat program untuk mendeteksi anagram\n",
        "\n",
        "Anagram adalah istilah dalam linguistik yang mengacu pada sebuah kata atau frasa yang terbentuk dari pengubahan susunan huruf-huruf yang terdapat pada kata atau frasa lain. Dalam sebuah anagram, huruf-huruf yang ada dalam kata atau frasa asli diacak ulang tanpa menambah atau menghapus huruf-huruf tersebut. <br>\n",
        "Contohnya, anagram dari kata \"kucing\" dapat menjadi \"cinguk\" atau \"ucgink\". Begitu pula, anagram dari frasa \"aku suka makan\" dapat menjadi \"suka makan aku\" atau \"makan aku suka\".\n",
        "\n",
        "```\n",
        "test case 1 :\n",
        "word_one = \"angel\"\n",
        "word_two = 'glean'\n",
        "OUTPUT:\n",
        "True\n",
        "\n",
        "\n",
        "test case 2 :\n",
        "word_one='mike'\n",
        "word_two=\"like\"\n",
        "OUTPUT:\n",
        "False\n",
        "```\n",
        "\n"
      ]
    },
    {
      "cell_type": "code",
      "execution_count": 7,
      "metadata": {
        "id": "fd9r1XkBCIDR"
      },
      "outputs": [],
      "source": [
        "def is_anagram(word_one, word_two):\n",
        "    # Menghapus spasi dan mengonversi huruf menjadi huruf kecil\n",
        "    word_one = word_one.replace(\" \", \"\").lower()\n",
        "    word_two = word_two.replace(\" \", \"\").lower()\n",
        "\n",
        "    # Mengurutkan karakter dalam kata-kata\n",
        "    sorted_word_one = sorted(word_one)\n",
        "    sorted_word_two = sorted(word_two)\n",
        "\n",
        "    # Memeriksa apakah kata-kata yang diurutkan sama\n",
        "    return sorted_word_one == sorted_word_two"
      ]
    },
    {
      "cell_type": "code",
      "source": [
        "# Test case 1\n",
        "word_one = \"angel\"\n",
        "word_two = \"glean\"\n",
        "output = is_anagram(word_one, word_two)\n",
        "print(output)  # Output: True\n",
        "\n",
        "# Test case 2\n",
        "word_one = \"mike\"\n",
        "word_two = \"like\"\n",
        "output = is_anagram(word_one, word_two)\n",
        "print(output)  # Output: False"
      ],
      "metadata": {
        "colab": {
          "base_uri": "https://localhost:8080/"
        },
        "id": "TKWEGS5NMDtE",
        "outputId": "ee951000-78a2-461e-e0e2-072d92b9947b"
      },
      "execution_count": 8,
      "outputs": [
        {
          "output_type": "stream",
          "name": "stdout",
          "text": [
            "True\n",
            "False\n"
          ]
        }
      ]
    }
  ],
  "metadata": {
    "kernelspec": {
      "display_name": "Python 3",
      "language": "python",
      "name": "python3"
    },
    "language_info": {
      "codemirror_mode": {
        "name": "ipython",
        "version": 3
      },
      "file_extension": ".py",
      "mimetype": "text/x-python",
      "name": "python",
      "nbconvert_exporter": "python",
      "pygments_lexer": "ipython3",
      "version": "3.11.3"
    },
    "orig_nbformat": 4,
    "colab": {
      "provenance": []
    }
  },
  "nbformat": 4,
  "nbformat_minor": 0
}